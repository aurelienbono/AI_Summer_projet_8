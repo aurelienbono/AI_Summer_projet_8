{
 "cells": [
  {
   "cell_type": "markdown",
   "metadata": {},
   "source": [
    "# Import libraries"
   ]
  },
  {
   "cell_type": "code",
   "execution_count": 1,
   "metadata": {},
   "outputs": [],
   "source": [
    "# ! pip install faker "
   ]
  },
  {
   "cell_type": "code",
   "execution_count": 6,
   "metadata": {},
   "outputs": [],
   "source": [
    "import pandas as pd\n",
    "import numpy as np\n",
    "import random\n",
    "from faker import Faker\n",
    "from datetime import datetime, timedelta\n",
    "import uuid\n",
    "from tqdm import tqdm\n",
    "from random import randint, uniform\n",
    "from faker.providers import BaseProvider"
   ]
  },
  {
   "cell_type": "code",
   "execution_count": 2,
   "metadata": {},
   "outputs": [],
   "source": [
    "fake = Faker()\n",
    "start_date = datetime.strptime(\"2005-01-01\", \"%Y-%m-%d\")\n",
    "end_date = datetime.strptime(\"2023-12-31\", \"%Y-%m-%d\")"
   ]
  },
  {
   "cell_type": "code",
   "execution_count": 3,
   "metadata": {},
   "outputs": [],
   "source": [
    "def generate_random_id():\n",
    "    return(uuid.uuid1().hex)"
   ]
  },
  {
   "cell_type": "markdown",
   "metadata": {},
   "source": [
    "# Data generation"
   ]
  },
  {
   "cell_type": "markdown",
   "metadata": {},
   "source": [
    "## Tables Customer data"
   ]
  },
  {
   "cell_type": "code",
   "execution_count": 4,
   "metadata": {},
   "outputs": [
    {
     "name": "stdout",
     "output_type": "stream",
     "text": [
      "+237 675254093\n"
     ]
    }
   ],
   "source": [
    "from random import randint, uniform\n",
    "from faker.providers import BaseProvider\n",
    "\n",
    "class CameroonPhoneProvider(BaseProvider):\n",
    "    def phone_number(self):\n",
    "        \"\"\"Generates a fake Cameroon phone number in a random format.\"\"\"\n",
    "        formats = [\n",
    "            \"+237 65ABCDEFG\",\n",
    "            \"+237 67ABCDEFG\",\n",
    "            \"+237 68ABCDEFG\",\n",
    "            \"+237 69ABCDEFG\",\n",
    "        ]\n",
    "        format_str = formats[randint(0, len(formats) - 1)]\n",
    "        phone_number = format_str.replace(\"A\", str(randint(0, 9)))\n",
    "        phone_number = phone_number.replace(\"B\", str(randint(0, 9)))\n",
    "        phone_number = phone_number.replace(\"C\", str(randint(0, 9)))\n",
    "        phone_number = phone_number.replace(\"D\", str(randint(0, 9)))\n",
    "        phone_number = phone_number.replace(\"E\", str(randint(0, 9)))\n",
    "        phone_number = phone_number.replace(\"F\", str(randint(0, 9)))\n",
    "        phone_number = phone_number.replace(\"G\", str(randint(0, 9)))\n",
    "        return phone_number\n",
    "\n",
    "fake = Faker()\n",
    "fake.add_provider(CameroonPhoneProvider)\n",
    "\n",
    "cam_phone_number = fake.phone_number()\n",
    "print(cam_phone_number)"
   ]
  },
  {
   "cell_type": "code",
   "execution_count": 7,
   "metadata": {},
   "outputs": [
    {
     "name": "stderr",
     "output_type": "stream",
     "text": [
      "100%|██████████| 10000/10000 [00:22<00:00, 454.10it/s]"
     ]
    },
    {
     "name": "stdout",
     "output_type": "stream",
     "text": [
      "(10000, 10)\n"
     ]
    },
    {
     "name": "stderr",
     "output_type": "stream",
     "text": [
      "\n"
     ]
    },
    {
     "data": {
      "text/html": [
       "<div>\n",
       "<style scoped>\n",
       "    .dataframe tbody tr th:only-of-type {\n",
       "        vertical-align: middle;\n",
       "    }\n",
       "\n",
       "    .dataframe tbody tr th {\n",
       "        vertical-align: top;\n",
       "    }\n",
       "\n",
       "    .dataframe thead th {\n",
       "        text-align: right;\n",
       "    }\n",
       "</style>\n",
       "<table border=\"1\" class=\"dataframe\">\n",
       "  <thead>\n",
       "    <tr style=\"text-align: right;\">\n",
       "      <th></th>\n",
       "      <th>customer_id</th>\n",
       "      <th>first_name</th>\n",
       "      <th>last_name</th>\n",
       "      <th>email</th>\n",
       "      <th>phone_number</th>\n",
       "      <th>registration_date</th>\n",
       "      <th>date_of_birth</th>\n",
       "      <th>address</th>\n",
       "      <th>city</th>\n",
       "      <th>region</th>\n",
       "    </tr>\n",
       "  </thead>\n",
       "  <tbody>\n",
       "    <tr>\n",
       "      <th>0</th>\n",
       "      <td>9ddc46a6407811ef8d95e470b847802d</td>\n",
       "      <td>Miranda</td>\n",
       "      <td>Matthews</td>\n",
       "      <td>Miranda.Matthews@richards-sanders.com</td>\n",
       "      <td>+237 675254093</td>\n",
       "      <td>2009-09-15</td>\n",
       "      <td>1975-12-12</td>\n",
       "      <td>9584 Riley Streets Suite 467\\nPort Kyle, OR 44165</td>\n",
       "      <td>Maroua</td>\n",
       "      <td>Est</td>\n",
       "    </tr>\n",
       "    <tr>\n",
       "      <th>1</th>\n",
       "      <td>9ddc955a407811ef8cfee470b847802d</td>\n",
       "      <td>Kayla</td>\n",
       "      <td>Stout</td>\n",
       "      <td>Kayla.Stout@smith.com</td>\n",
       "      <td>+237 675254093</td>\n",
       "      <td>2017-07-20</td>\n",
       "      <td>1966-06-03</td>\n",
       "      <td>40712 Justin Ports Apt. 056\\nHallbury, ME 46737</td>\n",
       "      <td>Yaoundé</td>\n",
       "      <td>Littoral</td>\n",
       "    </tr>\n",
       "    <tr>\n",
       "      <th>2</th>\n",
       "      <td>9ddc955b407811efaaa5e470b847802d</td>\n",
       "      <td>Susan</td>\n",
       "      <td>Wright</td>\n",
       "      <td>Susan.Wright@taylor.com</td>\n",
       "      <td>+237 675254093</td>\n",
       "      <td>2010-03-20</td>\n",
       "      <td>1953-10-30</td>\n",
       "      <td>140 Taylor Alley Suite 639\\nTaylorborough, KY ...</td>\n",
       "      <td>Figuil</td>\n",
       "      <td>Nord-ouest</td>\n",
       "    </tr>\n",
       "    <tr>\n",
       "      <th>3</th>\n",
       "      <td>9ddc955c407811ef9d4de470b847802d</td>\n",
       "      <td>David</td>\n",
       "      <td>Murillo</td>\n",
       "      <td>David.Murillo@warren.com</td>\n",
       "      <td>+237 675254093</td>\n",
       "      <td>2013-01-24</td>\n",
       "      <td>1958-09-21</td>\n",
       "      <td>5929 Robert Course\\nNorth Amandabury, NC 73084</td>\n",
       "      <td>Ngaoundéré</td>\n",
       "      <td>Extrème-nord</td>\n",
       "    </tr>\n",
       "    <tr>\n",
       "      <th>4</th>\n",
       "      <td>9ddc955d407811ef82e8e470b847802d</td>\n",
       "      <td>Patricia</td>\n",
       "      <td>Zuniga</td>\n",
       "      <td>Patricia.Zuniga@daniel.com</td>\n",
       "      <td>+237 675254093</td>\n",
       "      <td>2009-06-11</td>\n",
       "      <td>1967-10-03</td>\n",
       "      <td>125 Banks Fords\\nPort Jenniferborough, SD 36805</td>\n",
       "      <td>Foumban</td>\n",
       "      <td>Centre</td>\n",
       "    </tr>\n",
       "  </tbody>\n",
       "</table>\n",
       "</div>"
      ],
      "text/plain": [
       "                        customer_id first_name last_name  \\\n",
       "0  9ddc46a6407811ef8d95e470b847802d    Miranda  Matthews   \n",
       "1  9ddc955a407811ef8cfee470b847802d      Kayla     Stout   \n",
       "2  9ddc955b407811efaaa5e470b847802d      Susan    Wright   \n",
       "3  9ddc955c407811ef9d4de470b847802d      David   Murillo   \n",
       "4  9ddc955d407811ef82e8e470b847802d   Patricia    Zuniga   \n",
       "\n",
       "                                   email    phone_number registration_date  \\\n",
       "0  Miranda.Matthews@richards-sanders.com  +237 675254093        2009-09-15   \n",
       "1                  Kayla.Stout@smith.com  +237 675254093        2017-07-20   \n",
       "2                Susan.Wright@taylor.com  +237 675254093        2010-03-20   \n",
       "3               David.Murillo@warren.com  +237 675254093        2013-01-24   \n",
       "4             Patricia.Zuniga@daniel.com  +237 675254093        2009-06-11   \n",
       "\n",
       "  date_of_birth                                            address  \\\n",
       "0    1975-12-12  9584 Riley Streets Suite 467\\nPort Kyle, OR 44165   \n",
       "1    1966-06-03    40712 Justin Ports Apt. 056\\nHallbury, ME 46737   \n",
       "2    1953-10-30  140 Taylor Alley Suite 639\\nTaylorborough, KY ...   \n",
       "3    1958-09-21     5929 Robert Course\\nNorth Amandabury, NC 73084   \n",
       "4    1967-10-03    125 Banks Fords\\nPort Jenniferborough, SD 36805   \n",
       "\n",
       "         city        region  \n",
       "0      Maroua           Est  \n",
       "1     Yaoundé      Littoral  \n",
       "2      Figuil    Nord-ouest  \n",
       "3  Ngaoundéré  Extrème-nord  \n",
       "4     Foumban        Centre  "
      ]
     },
     "execution_count": 7,
     "metadata": {},
     "output_type": "execute_result"
    }
   ],
   "source": [
    "customers_list = []\n",
    "for i in tqdm(range(10000)):\n",
    "    first_name = fake.first_name()\n",
    "    last_name = fake.last_name()\n",
    "    domain = fake.domain_name()\n",
    "    email = f\"{first_name}.{last_name}@{domain}\"\n",
    "    phone_number = cam_phone_number\n",
    "    registration_date = fake.date_between(start_date, end_date)\n",
    "    date_of_birth = fake.date_of_birth(minimum_age=30, maximum_age=75)\n",
    "    address = fake.address()\n",
    "    city = random.choice([\"Yaoundé\", \"Douala\", \"Bafoussam\", \"Dschang\", \"Garoua\", \"Maroua\", \"Bamenda\", \"Ngaoundéré\", \"Nkongsamba\", \"Limbe\", \"Bertoua\", \"Mbouda\", \"Guider\",\"Foumban\", \"Tibati\", \"Buea\", \"Kumba\", \"Kribi\", \"Loum\", \"Nkambe\",\"Bangangté\", \"Baham\", \"Ndikiniméki\", \"Wum\", \"Batouri\", \"Yokadouma\", \"Mindif\", \"Meigang\", \"Abong-Mbang\", \"Bertoua\", \"Bogo\", \"Dir\", \"Poli\", \"Mbouda\", \"Bakoum\", \"Ngaoundal\", \"Figuil\", \"Mayo-Darlé\", \"Mayo-Rey\", \"Betaré-Oya\", \"Guidiguis\", \"Minjibir\", \"Mbankomo\", \"Ntui\", \"Mengang\", \"Akonolinga\", \"Ebolowa\", \"Abé\", \"Sangmélima\", \"Oveng\", \"Bipindi\", \"Meyomessé\",])\n",
    "    region = random.choice([\"Nord\", \"Sud\", \"Est\", \"Ouest\", \"Centre\", \"Littoral\", \"Adamaoua\", \"Nord-ouest\", \"Sud-ouest\", \"Extrème-nord\"])\n",
    "\n",
    "    date_dict = {\n",
    "        'customer_id' :generate_random_id(), \n",
    "        'first_name': first_name, \n",
    "        'last_name': last_name,\n",
    "        'email': email,\n",
    "        'phone_number': phone_number,\n",
    "        'registration_date': registration_date,\n",
    "        'date_of_birth' : date_of_birth,\n",
    "        'address': address,\n",
    "        'city': city,\n",
    "        'region' : region\n",
    "        }\n",
    "    customers_list.append(date_dict)\n",
    "customer_df = pd.DataFrame(customers_list)\n",
    "print(customer_df.shape)\n",
    "customer_df.head()"
   ]
  },
  {
   "cell_type": "code",
   "execution_count": 13,
   "metadata": {},
   "outputs": [
    {
     "data": {
      "text/plain": [
       "Index(['customer_id', 'first_name', 'last_name', 'email', 'phone_number',\n",
       "       'registration_date', 'date_of_birth', 'address', 'city', 'region'],\n",
       "      dtype='object')"
      ]
     },
     "execution_count": 13,
     "metadata": {},
     "output_type": "execute_result"
    }
   ],
   "source": [
    "customer_df.columns "
   ]
  },
  {
   "cell_type": "code",
   "execution_count": 18,
   "metadata": {},
   "outputs": [
    {
     "data": {
      "text/plain": [
       "['aad87a42407811efa231e470b847802d']"
      ]
     },
     "execution_count": 18,
     "metadata": {},
     "output_type": "execute_result"
    }
   ],
   "source": []
  },
  {
   "cell_type": "code",
   "execution_count": 28,
   "metadata": {},
   "outputs": [],
   "source": [
    "customer_df.to_csv('../Data/Train/customers.csv', index=False)"
   ]
  },
  {
   "cell_type": "code",
   "execution_count": null,
   "metadata": {},
   "outputs": [],
   "source": []
  },
  {
   "cell_type": "code",
   "execution_count": 12,
   "metadata": {},
   "outputs": [
    {
     "data": {
      "text/html": [
       "<div>\n",
       "<style scoped>\n",
       "    .dataframe tbody tr th:only-of-type {\n",
       "        vertical-align: middle;\n",
       "    }\n",
       "\n",
       "    .dataframe tbody tr th {\n",
       "        vertical-align: top;\n",
       "    }\n",
       "\n",
       "    .dataframe thead th {\n",
       "        text-align: right;\n",
       "    }\n",
       "</style>\n",
       "<table border=\"1\" class=\"dataframe\">\n",
       "  <thead>\n",
       "    <tr style=\"text-align: right;\">\n",
       "      <th></th>\n",
       "      <th>customer_id</th>\n",
       "      <th>first_name</th>\n",
       "      <th>last_name</th>\n",
       "      <th>email</th>\n",
       "      <th>phone_number</th>\n",
       "      <th>registration_date</th>\n",
       "      <th>date_of_birth</th>\n",
       "      <th>address</th>\n",
       "      <th>city</th>\n",
       "      <th>region</th>\n",
       "    </tr>\n",
       "  </thead>\n",
       "  <tbody>\n",
       "    <tr>\n",
       "      <th>0</th>\n",
       "      <td>9ddc46a6407811ef8d95e470b847802d</td>\n",
       "      <td>Miranda</td>\n",
       "      <td>Matthews</td>\n",
       "      <td>Miranda.Matthews@richards-sanders.com</td>\n",
       "      <td>+237 675254093</td>\n",
       "      <td>2009-09-15</td>\n",
       "      <td>1975-12-12</td>\n",
       "      <td>9584 Riley Streets Suite 467\\nPort Kyle, OR 44165</td>\n",
       "      <td>Maroua</td>\n",
       "      <td>Est</td>\n",
       "    </tr>\n",
       "    <tr>\n",
       "      <th>1</th>\n",
       "      <td>9ddc955a407811ef8cfee470b847802d</td>\n",
       "      <td>Kayla</td>\n",
       "      <td>Stout</td>\n",
       "      <td>Kayla.Stout@smith.com</td>\n",
       "      <td>+237 675254093</td>\n",
       "      <td>2017-07-20</td>\n",
       "      <td>1966-06-03</td>\n",
       "      <td>40712 Justin Ports Apt. 056\\nHallbury, ME 46737</td>\n",
       "      <td>Yaoundé</td>\n",
       "      <td>Littoral</td>\n",
       "    </tr>\n",
       "    <tr>\n",
       "      <th>2</th>\n",
       "      <td>9ddc955b407811efaaa5e470b847802d</td>\n",
       "      <td>Susan</td>\n",
       "      <td>Wright</td>\n",
       "      <td>Susan.Wright@taylor.com</td>\n",
       "      <td>+237 675254093</td>\n",
       "      <td>2010-03-20</td>\n",
       "      <td>1953-10-30</td>\n",
       "      <td>140 Taylor Alley Suite 639\\nTaylorborough, KY ...</td>\n",
       "      <td>Figuil</td>\n",
       "      <td>Nord-ouest</td>\n",
       "    </tr>\n",
       "    <tr>\n",
       "      <th>3</th>\n",
       "      <td>9ddc955c407811ef9d4de470b847802d</td>\n",
       "      <td>David</td>\n",
       "      <td>Murillo</td>\n",
       "      <td>David.Murillo@warren.com</td>\n",
       "      <td>+237 675254093</td>\n",
       "      <td>2013-01-24</td>\n",
       "      <td>1958-09-21</td>\n",
       "      <td>5929 Robert Course\\nNorth Amandabury, NC 73084</td>\n",
       "      <td>Ngaoundéré</td>\n",
       "      <td>Extrème-nord</td>\n",
       "    </tr>\n",
       "    <tr>\n",
       "      <th>4</th>\n",
       "      <td>9ddc955d407811ef82e8e470b847802d</td>\n",
       "      <td>Patricia</td>\n",
       "      <td>Zuniga</td>\n",
       "      <td>Patricia.Zuniga@daniel.com</td>\n",
       "      <td>+237 675254093</td>\n",
       "      <td>2009-06-11</td>\n",
       "      <td>1967-10-03</td>\n",
       "      <td>125 Banks Fords\\nPort Jenniferborough, SD 36805</td>\n",
       "      <td>Foumban</td>\n",
       "      <td>Centre</td>\n",
       "    </tr>\n",
       "  </tbody>\n",
       "</table>\n",
       "</div>"
      ],
      "text/plain": [
       "                        customer_id first_name last_name  \\\n",
       "0  9ddc46a6407811ef8d95e470b847802d    Miranda  Matthews   \n",
       "1  9ddc955a407811ef8cfee470b847802d      Kayla     Stout   \n",
       "2  9ddc955b407811efaaa5e470b847802d      Susan    Wright   \n",
       "3  9ddc955c407811ef9d4de470b847802d      David   Murillo   \n",
       "4  9ddc955d407811ef82e8e470b847802d   Patricia    Zuniga   \n",
       "\n",
       "                                   email    phone_number registration_date  \\\n",
       "0  Miranda.Matthews@richards-sanders.com  +237 675254093        2009-09-15   \n",
       "1                  Kayla.Stout@smith.com  +237 675254093        2017-07-20   \n",
       "2                Susan.Wright@taylor.com  +237 675254093        2010-03-20   \n",
       "3               David.Murillo@warren.com  +237 675254093        2013-01-24   \n",
       "4             Patricia.Zuniga@daniel.com  +237 675254093        2009-06-11   \n",
       "\n",
       "  date_of_birth                                            address  \\\n",
       "0    1975-12-12  9584 Riley Streets Suite 467\\nPort Kyle, OR 44165   \n",
       "1    1966-06-03    40712 Justin Ports Apt. 056\\nHallbury, ME 46737   \n",
       "2    1953-10-30  140 Taylor Alley Suite 639\\nTaylorborough, KY ...   \n",
       "3    1958-09-21     5929 Robert Course\\nNorth Amandabury, NC 73084   \n",
       "4    1967-10-03    125 Banks Fords\\nPort Jenniferborough, SD 36805   \n",
       "\n",
       "         city        region  \n",
       "0      Maroua           Est  \n",
       "1     Yaoundé      Littoral  \n",
       "2      Figuil    Nord-ouest  \n",
       "3  Ngaoundéré  Extrème-nord  \n",
       "4     Foumban        Centre  "
      ]
     },
     "execution_count": 12,
     "metadata": {},
     "output_type": "execute_result"
    }
   ],
   "source": [
    "customer_df.head()"
   ]
  },
  {
   "cell_type": "markdown",
   "metadata": {},
   "source": [
    "## Device data"
   ]
  },
  {
   "cell_type": "code",
   "execution_count": 10,
   "metadata": {},
   "outputs": [],
   "source": [
    "device_id_list = [generate_random_id() for i in range(200)]\n",
    "# device_id_list"
   ]
  },
  {
   "cell_type": "code",
   "execution_count": 23,
   "metadata": {},
   "outputs": [
    {
     "data": {
      "text/html": [
       "<div>\n",
       "<style scoped>\n",
       "    .dataframe tbody tr th:only-of-type {\n",
       "        vertical-align: middle;\n",
       "    }\n",
       "\n",
       "    .dataframe tbody tr th {\n",
       "        vertical-align: top;\n",
       "    }\n",
       "\n",
       "    .dataframe thead th {\n",
       "        text-align: right;\n",
       "    }\n",
       "</style>\n",
       "<table border=\"1\" class=\"dataframe\">\n",
       "  <thead>\n",
       "    <tr style=\"text-align: right;\">\n",
       "      <th></th>\n",
       "      <th>customer_id</th>\n",
       "      <th>first_name</th>\n",
       "      <th>last_name</th>\n",
       "      <th>email</th>\n",
       "      <th>phone_number</th>\n",
       "      <th>registration_date</th>\n",
       "      <th>date_of_birth</th>\n",
       "      <th>address</th>\n",
       "      <th>city</th>\n",
       "      <th>region</th>\n",
       "    </tr>\n",
       "  </thead>\n",
       "  <tbody>\n",
       "    <tr>\n",
       "      <th>8662</th>\n",
       "      <td>a94fef24407811ef8ecbe470b847802d</td>\n",
       "      <td>Anthony</td>\n",
       "      <td>James</td>\n",
       "      <td>Anthony.James@richards-ruiz.net</td>\n",
       "      <td>+237 675254093</td>\n",
       "      <td>2008-10-11</td>\n",
       "      <td>1983-12-31</td>\n",
       "      <td>39714 James Course Apt. 490\\nJasmineville, IL ...</td>\n",
       "      <td>Meyomessé</td>\n",
       "      <td>Nord-ouest</td>\n",
       "    </tr>\n",
       "  </tbody>\n",
       "</table>\n",
       "</div>"
      ],
      "text/plain": [
       "                           customer_id first_name last_name  \\\n",
       "8662  a94fef24407811ef8ecbe470b847802d    Anthony     James   \n",
       "\n",
       "                                email    phone_number registration_date  \\\n",
       "8662  Anthony.James@richards-ruiz.net  +237 675254093        2008-10-11   \n",
       "\n",
       "     date_of_birth                                            address  \\\n",
       "8662    1983-12-31  39714 James Course Apt. 490\\nJasmineville, IL ...   \n",
       "\n",
       "           city      region  \n",
       "8662  Meyomessé  Nord-ouest  "
      ]
     },
     "execution_count": 23,
     "metadata": {},
     "output_type": "execute_result"
    }
   ],
   "source": [
    "customer_df[customer_df.customer_id=='a94fef24407811ef8ecbe470b847802d']"
   ]
  },
  {
   "cell_type": "markdown",
   "metadata": {},
   "source": [
    "## Transaction data"
   ]
  },
  {
   "cell_type": "code",
   "execution_count": 22,
   "metadata": {},
   "outputs": [
    {
     "name": "stderr",
     "output_type": "stream",
     "text": [
      "100%|██████████| 100000/100000 [01:52<00:00, 887.48it/s]\n"
     ]
    },
    {
     "name": "stdout",
     "output_type": "stream",
     "text": [
      "(100000, 9)\n"
     ]
    },
    {
     "data": {
      "text/html": [
       "<div>\n",
       "<style scoped>\n",
       "    .dataframe tbody tr th:only-of-type {\n",
       "        vertical-align: middle;\n",
       "    }\n",
       "\n",
       "    .dataframe tbody tr th {\n",
       "        vertical-align: top;\n",
       "    }\n",
       "\n",
       "    .dataframe thead th {\n",
       "        text-align: right;\n",
       "    }\n",
       "</style>\n",
       "<table border=\"1\" class=\"dataframe\">\n",
       "  <thead>\n",
       "    <tr style=\"text-align: right;\">\n",
       "      <th></th>\n",
       "      <th>transaction_id</th>\n",
       "      <th>customer_id</th>\n",
       "      <th>transaction_type</th>\n",
       "      <th>amount</th>\n",
       "      <th>transaction_date</th>\n",
       "      <th>location</th>\n",
       "      <th>device_id</th>\n",
       "      <th>status</th>\n",
       "      <th>is_fraud</th>\n",
       "    </tr>\n",
       "  </thead>\n",
       "  <tbody>\n",
       "    <tr>\n",
       "      <th>0</th>\n",
       "      <td>6a29fb73407911efaf22e470b847802d</td>\n",
       "      <td>a71822a4407811ef9963e470b847802d</td>\n",
       "      <td>retrait</td>\n",
       "      <td>9.277907e+06</td>\n",
       "      <td>2006-07-24</td>\n",
       "      <td>487 Nicole Lights Suite 187\\nTaylorton, WA 94726</td>\n",
       "      <td>b9f9b4e6407811efb5fee470b847802d</td>\n",
       "      <td>échouée</td>\n",
       "      <td>1</td>\n",
       "    </tr>\n",
       "    <tr>\n",
       "      <th>1</th>\n",
       "      <td>6a2a225c407911ef98d8e470b847802d</td>\n",
       "      <td>a07645e6407811ef8517e470b847802d</td>\n",
       "      <td>transfert</td>\n",
       "      <td>8.465961e+06</td>\n",
       "      <td>2022-04-04</td>\n",
       "      <td>418 Cheryl Manors\\nPort Jennifer, CT 87069</td>\n",
       "      <td>b9f98e1f407811ef9ff4e470b847802d</td>\n",
       "      <td>réussie</td>\n",
       "      <td>1</td>\n",
       "    </tr>\n",
       "    <tr>\n",
       "      <th>2</th>\n",
       "      <td>6a2a225d407911efb631e470b847802d</td>\n",
       "      <td>a61fa3d6407811efbfdbe470b847802d</td>\n",
       "      <td>retrait</td>\n",
       "      <td>5.679446e+06</td>\n",
       "      <td>2020-12-19</td>\n",
       "      <td>99924 Cox View Suite 511\\nNew Kimberlystad, AZ...</td>\n",
       "      <td>b9f9b4f6407811efb3b1e470b847802d</td>\n",
       "      <td>échouée</td>\n",
       "      <td>1</td>\n",
       "    </tr>\n",
       "    <tr>\n",
       "      <th>3</th>\n",
       "      <td>6a2a4953407911efb332e470b847802d</td>\n",
       "      <td>a94fef24407811ef8ecbe470b847802d</td>\n",
       "      <td>depôt</td>\n",
       "      <td>4.883661e+06</td>\n",
       "      <td>2005-02-22</td>\n",
       "      <td>7126 Clayton Dale Apt. 123\\nSweeneyside, OH 43574</td>\n",
       "      <td>b9f9b53c407811efbd2be470b847802d</td>\n",
       "      <td>réussie</td>\n",
       "      <td>0</td>\n",
       "    </tr>\n",
       "    <tr>\n",
       "      <th>4</th>\n",
       "      <td>6a2a4954407911efb4bfe470b847802d</td>\n",
       "      <td>a19769b5407811efb83ae470b847802d</td>\n",
       "      <td>transfert</td>\n",
       "      <td>5.065001e+06</td>\n",
       "      <td>2019-12-31</td>\n",
       "      <td>89692 Abigail Fields\\nAmandaport, MI 85458</td>\n",
       "      <td>b9f98e00407811efa2b6e470b847802d</td>\n",
       "      <td>réussie</td>\n",
       "      <td>0</td>\n",
       "    </tr>\n",
       "  </tbody>\n",
       "</table>\n",
       "</div>"
      ],
      "text/plain": [
       "                     transaction_id                       customer_id  \\\n",
       "0  6a29fb73407911efaf22e470b847802d  a71822a4407811ef9963e470b847802d   \n",
       "1  6a2a225c407911ef98d8e470b847802d  a07645e6407811ef8517e470b847802d   \n",
       "2  6a2a225d407911efb631e470b847802d  a61fa3d6407811efbfdbe470b847802d   \n",
       "3  6a2a4953407911efb332e470b847802d  a94fef24407811ef8ecbe470b847802d   \n",
       "4  6a2a4954407911efb4bfe470b847802d  a19769b5407811efb83ae470b847802d   \n",
       "\n",
       "  transaction_type        amount transaction_date  \\\n",
       "0          retrait  9.277907e+06       2006-07-24   \n",
       "1        transfert  8.465961e+06       2022-04-04   \n",
       "2          retrait  5.679446e+06       2020-12-19   \n",
       "3            depôt  4.883661e+06       2005-02-22   \n",
       "4        transfert  5.065001e+06       2019-12-31   \n",
       "\n",
       "                                            location  \\\n",
       "0   487 Nicole Lights Suite 187\\nTaylorton, WA 94726   \n",
       "1         418 Cheryl Manors\\nPort Jennifer, CT 87069   \n",
       "2  99924 Cox View Suite 511\\nNew Kimberlystad, AZ...   \n",
       "3  7126 Clayton Dale Apt. 123\\nSweeneyside, OH 43574   \n",
       "4         89692 Abigail Fields\\nAmandaport, MI 85458   \n",
       "\n",
       "                          device_id   status  is_fraud  \n",
       "0  b9f9b4e6407811efb5fee470b847802d  échouée         1  \n",
       "1  b9f98e1f407811ef9ff4e470b847802d  réussie         1  \n",
       "2  b9f9b4f6407811efb3b1e470b847802d  échouée         1  \n",
       "3  b9f9b53c407811efbd2be470b847802d  réussie         0  \n",
       "4  b9f98e00407811efa2b6e470b847802d  réussie         0  "
      ]
     },
     "execution_count": 22,
     "metadata": {},
     "output_type": "execute_result"
    }
   ],
   "source": [
    "transaction_list=[]\n",
    "customer_id_list = customer_df[\"customer_id\"]\n",
    "\n",
    "for i in tqdm(range(100000)):\n",
    "    transaction_id = generate_random_id()\n",
    "    customer_id = random.choice(customer_id_list)\n",
    "    transaction_type = random.choice([\"retrait\", \"depôt\", \"transfert\"])\n",
    "    amount = uniform(100, 10000000)\n",
    "    transaction_date = fake.date_between(start_date, end_date)\n",
    "    location = fake.address()\n",
    "    device_id = random.choice(device_id_list)\n",
    "    status = random.choice([\"échouée\", \"réussie\"])\n",
    "    is_fraud = random.choice([0,1])\n",
    "\n",
    "    transaction_dict = {\n",
    "        \"transaction_id\": transaction_id,\n",
    "        \"customer_id\": customer_id,\n",
    "        \"transaction_type\": transaction_type,\n",
    "        \"amount\": amount,\n",
    "        \"transaction_date\": transaction_date,\n",
    "        \"location\": location,\n",
    "        \"device_id\": device_id,\n",
    "        \"status\": status,\n",
    "        \"is_fraud\": is_fraud\n",
    "    }\n",
    "\n",
    "    transaction_list.append(transaction_dict)\n",
    "\n",
    "transaction_df = pd.DataFrame(transaction_list)\n",
    "print(transaction_df.shape)\n",
    "transaction_df.head()+"
   ]
  },
  {
   "cell_type": "code",
   "execution_count": 10,
   "metadata": {},
   "outputs": [],
   "source": [
    "transaction_df.to_csv('../Data/Train/transactions.csv')"
   ]
  },
  {
   "cell_type": "markdown",
   "metadata": {},
   "source": [
    "## Transaction history data"
   ]
  },
  {
   "cell_type": "code",
   "execution_count": 31,
   "metadata": {},
   "outputs": [
    {
     "name": "stderr",
     "output_type": "stream",
     "text": [
      "100000it [00:42, 2333.35it/s]\n"
     ]
    },
    {
     "name": "stdout",
     "output_type": "stream",
     "text": [
      "(100000, 6)\n"
     ]
    },
    {
     "data": {
      "text/html": [
       "<div>\n",
       "<style scoped>\n",
       "    .dataframe tbody tr th:only-of-type {\n",
       "        vertical-align: middle;\n",
       "    }\n",
       "\n",
       "    .dataframe tbody tr th {\n",
       "        vertical-align: top;\n",
       "    }\n",
       "\n",
       "    .dataframe thead th {\n",
       "        text-align: right;\n",
       "    }\n",
       "</style>\n",
       "<table border=\"1\" class=\"dataframe\">\n",
       "  <thead>\n",
       "    <tr style=\"text-align: right;\">\n",
       "      <th></th>\n",
       "      <th>history_id</th>\n",
       "      <th>customer_id</th>\n",
       "      <th>transaction_id</th>\n",
       "      <th>previous_balance</th>\n",
       "      <th>new_balance</th>\n",
       "      <th>transaction_date</th>\n",
       "    </tr>\n",
       "  </thead>\n",
       "  <tbody>\n",
       "    <tr>\n",
       "      <th>0</th>\n",
       "      <td>cb8a5693407a11ef8e48e470b847802d</td>\n",
       "      <td>a71822a4407811ef9963e470b847802d</td>\n",
       "      <td>6a29fb73407911efaf22e470b847802d</td>\n",
       "      <td>1.147287e+07</td>\n",
       "      <td>2.194959e+06</td>\n",
       "      <td>2006-07-24</td>\n",
       "    </tr>\n",
       "    <tr>\n",
       "      <th>1</th>\n",
       "      <td>cb8a5694407a11efbf98e470b847802d</td>\n",
       "      <td>a07645e6407811ef8517e470b847802d</td>\n",
       "      <td>6a2a225c407911ef98d8e470b847802d</td>\n",
       "      <td>1.717588e+07</td>\n",
       "      <td>8.709919e+06</td>\n",
       "      <td>2022-04-04</td>\n",
       "    </tr>\n",
       "    <tr>\n",
       "      <th>2</th>\n",
       "      <td>cb8a5695407a11efb474e470b847802d</td>\n",
       "      <td>a61fa3d6407811efbfdbe470b847802d</td>\n",
       "      <td>6a2a225d407911efb631e470b847802d</td>\n",
       "      <td>1.523108e+07</td>\n",
       "      <td>9.551637e+06</td>\n",
       "      <td>2020-12-19</td>\n",
       "    </tr>\n",
       "    <tr>\n",
       "      <th>3</th>\n",
       "      <td>cb8a5696407a11ef9d55e470b847802d</td>\n",
       "      <td>a94fef24407811ef8ecbe470b847802d</td>\n",
       "      <td>6a2a4953407911efb332e470b847802d</td>\n",
       "      <td>1.486875e+07</td>\n",
       "      <td>1.975242e+07</td>\n",
       "      <td>2005-02-22</td>\n",
       "    </tr>\n",
       "    <tr>\n",
       "      <th>4</th>\n",
       "      <td>cb8a5697407a11efba9de470b847802d</td>\n",
       "      <td>a19769b5407811efb83ae470b847802d</td>\n",
       "      <td>6a2a4954407911efb4bfe470b847802d</td>\n",
       "      <td>5.387807e+06</td>\n",
       "      <td>3.228061e+05</td>\n",
       "      <td>2019-12-31</td>\n",
       "    </tr>\n",
       "  </tbody>\n",
       "</table>\n",
       "</div>"
      ],
      "text/plain": [
       "                         history_id                       customer_id  \\\n",
       "0  cb8a5693407a11ef8e48e470b847802d  a71822a4407811ef9963e470b847802d   \n",
       "1  cb8a5694407a11efbf98e470b847802d  a07645e6407811ef8517e470b847802d   \n",
       "2  cb8a5695407a11efb474e470b847802d  a61fa3d6407811efbfdbe470b847802d   \n",
       "3  cb8a5696407a11ef9d55e470b847802d  a94fef24407811ef8ecbe470b847802d   \n",
       "4  cb8a5697407a11efba9de470b847802d  a19769b5407811efb83ae470b847802d   \n",
       "\n",
       "                     transaction_id  previous_balance   new_balance  \\\n",
       "0  6a29fb73407911efaf22e470b847802d      1.147287e+07  2.194959e+06   \n",
       "1  6a2a225c407911ef98d8e470b847802d      1.717588e+07  8.709919e+06   \n",
       "2  6a2a225d407911efb631e470b847802d      1.523108e+07  9.551637e+06   \n",
       "3  6a2a4953407911efb332e470b847802d      1.486875e+07  1.975242e+07   \n",
       "4  6a2a4954407911efb4bfe470b847802d      5.387807e+06  3.228061e+05   \n",
       "\n",
       "  transaction_date  \n",
       "0       2006-07-24  \n",
       "1       2022-04-04  \n",
       "2       2020-12-19  \n",
       "3       2005-02-22  \n",
       "4       2019-12-31  "
      ]
     },
     "execution_count": 31,
     "metadata": {},
     "output_type": "execute_result"
    }
   ],
   "source": [
    "transaction_history_list = []\n",
    "\n",
    "for i, transaction in tqdm(transaction_df.iterrows()):\n",
    "    history_id = generate_random_id()\n",
    "    customer_id = transaction.customer_id\n",
    "    transaction_id = transaction.transaction_id\n",
    "    previous_balance = transaction.amount + uniform(0, 10000000)\n",
    "\n",
    "    if transaction.transaction_type == \"depôt\":\n",
    "        new_balance = previous_balance + transaction.amount\n",
    "    else:\n",
    "        new_balance = previous_balance - transaction.amount\n",
    "        \n",
    "    transaction_date = transaction.transaction_date\n",
    "\n",
    "    transaction_history_dict = {\n",
    "        \"history_id\" : history_id,\n",
    "        \"customer_id\" : customer_id,\n",
    "        \"transaction_id\" : transaction_id,\n",
    "        \"previous_balance\" : previous_balance,\n",
    "        \"new_balance\" : new_balance,\n",
    "        \"transaction_date\": transaction_date\n",
    "    }\n",
    "    transaction_history_list.append(transaction_history_dict)\n",
    "\n",
    "transaction_history_df = pd.DataFrame(transaction_history_list)\n",
    "print(transaction_history_df.shape)\n",
    "transaction_history_df.head()"
   ]
  },
  {
   "cell_type": "code",
   "execution_count": null,
   "metadata": {},
   "outputs": [],
   "source": [
    "transaction_history_df.to_csv('../Data/Train/transaction_history.csv')"
   ]
  },
  {
   "cell_type": "markdown",
   "metadata": {},
   "source": [
    "## Transaction pattern data"
   ]
  },
  {
   "cell_type": "code",
   "execution_count": null,
   "metadata": {},
   "outputs": [],
   "source": []
  },
  {
   "cell_type": "markdown",
   "metadata": {},
   "source": [
    "## alerts data"
   ]
  },
  {
   "cell_type": "code",
   "execution_count": null,
   "metadata": {},
   "outputs": [],
   "source": []
  },
  {
   "cell_type": "markdown",
   "metadata": {},
   "source": [
    "## fraude_cases data "
   ]
  },
  {
   "cell_type": "code",
   "execution_count": null,
   "metadata": {},
   "outputs": [],
   "source": []
  },
  {
   "cell_type": "markdown",
   "metadata": {},
   "source": [
    "## regions data"
   ]
  },
  {
   "cell_type": "code",
   "execution_count": null,
   "metadata": {},
   "outputs": [],
   "source": []
  }
 ],
 "metadata": {
  "kernelspec": {
   "display_name": "Python 3 (ipykernel)",
   "language": "python",
   "name": "python3"
  },
  "language_info": {
   "codemirror_mode": {
    "name": "ipython",
    "version": 3
   },
   "file_extension": ".py",
   "mimetype": "text/x-python",
   "name": "python",
   "nbconvert_exporter": "python",
   "pygments_lexer": "ipython3",
   "version": "3.10.7"
  }
 },
 "nbformat": 4,
 "nbformat_minor": 4
}
